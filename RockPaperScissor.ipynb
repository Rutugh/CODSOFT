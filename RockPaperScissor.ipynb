{
  "nbformat": 4,
  "nbformat_minor": 0,
  "metadata": {
    "colab": {
      "provenance": [],
      "authorship_tag": "ABX9TyOVfpa5uf8SgvMFvX5xo6fV",
      "include_colab_link": true
    },
    "kernelspec": {
      "name": "python3",
      "display_name": "Python 3"
    },
    "language_info": {
      "name": "python"
    }
  },
  "cells": [
    {
      "cell_type": "markdown",
      "metadata": {
        "id": "view-in-github",
        "colab_type": "text"
      },
      "source": [
        "<a href=\"https://colab.research.google.com/github/Rutugh/CODSOFT/blob/main/RockPaperScissor.ipynb\" target=\"_parent\"><img src=\"https://colab.research.google.com/assets/colab-badge.svg\" alt=\"Open In Colab\"/></a>"
      ]
    },
    {
      "cell_type": "code",
      "execution_count": 13,
      "metadata": {
        "colab": {
          "base_uri": "https://localhost:8080/"
        },
        "id": "mrGuXoM4HNYj",
        "outputId": "01e03279-6c49-44c8-b8c4-b8a49c5ba31e"
      },
      "outputs": [
        {
          "output_type": "stream",
          "name": "stdout",
          "text": [
            "Enter a choice rock, paper or scissors: paper\n",
            "Player: paper\n",
            "Computer: scissors\n",
            "Computer wins\n",
            "Enter 3 to end else enter 0: 0\n",
            "Enter a choice rock, paper or scissors: scissors\n",
            "Player: scissors\n",
            "Computer: scissors\n",
            "It's a tie\n",
            "Enter 3 to end else enter 0: 0\n",
            "Enter a choice rock, paper or scissors: rock\n",
            "Player: rock\n",
            "Computer: paper\n",
            "Computer wins\n",
            "Enter 3 to end else enter 0: 0\n",
            "Enter a choice rock, paper or scissors: rock\n",
            "Player: rock\n",
            "Computer: scissors\n",
            "You win\n",
            "Enter 3 to end else enter 0: 3\n",
            "-----Scoreboard-----\n",
            "Player : Score\n",
            "Computer : 2\n",
            "You : 1\n",
            "Sorry! try again\n"
          ]
        }
      ],
      "source": [
        "import random\n",
        "options=(\"rock\", \"paper\", \"scissors\")\n",
        "P = None\n",
        "end=int(0)\n",
        "flagc=int(0)\n",
        "flagp=int(0)\n",
        "while(end==0):\n",
        "  c = random.choice(options)\n",
        "  # while P not in options:\n",
        "    # print(\"evvr\")\n",
        "  P=input(\"Enter a choice rock, paper or scissors: \")\n",
        "\n",
        "  print(f\"Player: {P}\")\n",
        "  print(f\"Computer: {c}\")\n",
        "\n",
        "  if P==c:\n",
        "    print(\"It's a tie\")\n",
        "  elif(P==\"paper\"):\n",
        "    if(c==\"scissors\" ):\n",
        "      print(\"Computer wins\")\n",
        "      flagc=flagc+1  #computer wins\n",
        "    elif(c==\"rock\"):\n",
        "      print(\"You win\")\n",
        "      flagp=flagp+1 #player wins\n",
        "  elif(P==\"rock\"):\n",
        "    if(c==\"scissors\" ):\n",
        "      print(\"You win\")\n",
        "      flagp=flagp+1 #player wins\n",
        "    elif(c==\"paper\"):\n",
        "      print(\"Computer wins\")\n",
        "      flagc=flagc+1  #computer wins\n",
        "  else:\n",
        "    if(c==\"rock\"):\n",
        "      print(\"Computer wins\")\n",
        "      flagc=flagc+1 #computer wins\n",
        "    elif(c==\"paper\"):\n",
        "      print(\"You win\")\n",
        "      flagp=flagp+1  #player wins\n",
        "  end=int(input(\"Enter 3 to end else enter 0: \"))\n",
        "\n",
        "print(\"-----Scoreboard-----\")\n",
        "print(\"Player : Score\")\n",
        "print(f\"Computer : {flagc}\")\n",
        "print(f\"You : {flagp}\")\n",
        "if flagc > flagp:\n",
        "  print(\"Sorry! try again\")\n",
        "elif flagc==flagp:\n",
        "  print(\"It's a Tie !!\")\n",
        "else:\n",
        "  print(\"Congratulations ! You win\")\n",
        "\n",
        "\n",
        "\n",
        "\n",
        "\n",
        "\n"
      ]
    }
  ]
}