{
  "nbformat": 4,
  "nbformat_minor": 0,
  "metadata": {
    "colab": {
      "provenance": [],
      "authorship_tag": "ABX9TyOnjqWtYxAilXSr6YnotdVz",
      "include_colab_link": true
    },
    "kernelspec": {
      "name": "python3",
      "display_name": "Python 3"
    },
    "language_info": {
      "name": "python"
    }
  },
  "cells": [
    {
      "cell_type": "markdown",
      "metadata": {
        "id": "view-in-github",
        "colab_type": "text"
      },
      "source": [
        "<a href=\"https://colab.research.google.com/github/Rutugh/CODSOFT/blob/main/PythonPasswordGenerator.ipynb\" target=\"_parent\"><img src=\"https://colab.research.google.com/assets/colab-badge.svg\" alt=\"Open In Colab\"/></a>"
      ]
    },
    {
      "cell_type": "code",
      "execution_count": 27,
      "metadata": {
        "colab": {
          "base_uri": "https://localhost:8080/"
        },
        "id": "aaGsCEXk9l_s",
        "outputId": "db800b18-0fb4-41f3-eacb-3598aa0e9a50"
      },
      "outputs": [
        {
          "output_type": "stream",
          "name": "stdout",
          "text": [
            "Hey User! I am an automatic password Generator!\n",
            "\n",
            "\n",
            "Enter the minimum length of your password: 10\n",
            "\n",
            "Here are some constraints you can add: \n",
            "\n",
            "1. No special character.\n",
            "\n",
            "2. No number.\n",
            "\n",
            "3. Atleast one special character and numbers\n",
            "\n",
            "4. No Constraints.\n",
            "\n",
            "Your Choice--> 3\n",
            "Your password is GY.b'z4K3t\n",
            "\n",
            "Enter 5 to Generate again otherwise, 6 -->6\n",
            "\n",
            "Password Generated Successfully! You may copy the password and use!\n"
          ]
        }
      ],
      "source": [
        "\n",
        "import random\n",
        "import string\n",
        "\n",
        "\n",
        "def gen_pwd(min_length, numbers=True, sc=True): #sc= special characters\n",
        "    letters = string.ascii_letters\n",
        "    digits = string.digits\n",
        "    specials = string.punctuation\n",
        "\n",
        "    chars=letters\n",
        "\n",
        "    if numbers:\n",
        "        chars+=digits\n",
        "    if sc:\n",
        "        chars+=specials\n",
        "\n",
        "\n",
        "    p=\"\"\n",
        "    criteria=False\n",
        "    has_number=False\n",
        "    has_special=False\n",
        "\n",
        "    while not criteria or len(p) < min_length:\n",
        "        ran = random.choice(chars)  #using Python's in-bult module called Random\n",
        "        p += ran\n",
        "        if ran in digits:\n",
        "            has_number = True\n",
        "        elif ran in specials:\n",
        "            has_special = True\n",
        "\n",
        "        criteria= True\n",
        "        if numbers:\n",
        "            criteria = has_number\n",
        "        if sc:  #special characters\n",
        "            criteria = criteria and has_special\n",
        "\n",
        "    return p\n",
        "\n",
        "print(\"Hey User! I am an automatic password Generator!\")\n",
        "print()\n",
        "t=5\n",
        "while(t==5):\n",
        "    n=int(input(\"\\nEnter the minimum length of your password: \"))\n",
        "    print(\"\\nHere are some constraints you can add: \")\n",
        "    print(\"\\n1. No special character.\")\n",
        "    print(\"\\n2. No number.\")\n",
        "    print(\"\\n3. Atleast one special character and numbers\")\n",
        "    print(\"\\n4. No Constraints.\")\n",
        "\n",
        "    inn=int(input(\"\\nYour Choice--> \"))\n",
        "\n",
        "    if inn==1:\n",
        "        print(f\"Your password is {gen_pwd(n,True,False)}\")\n",
        "    elif inn==2:\n",
        "        print(f\"Your password is {gen_pwd(n,False,True)}\")\n",
        "    elif inn==3:\n",
        "        print(f\"Your password is {gen_pwd(n,True,True)}\")\n",
        "    elif inn==4:\n",
        "        print(f\"Your password is {gen_pwd(n,True,True)}\")\n",
        "    else:\n",
        "        print(\"\\nInvalid number entered.\")\n",
        "\n",
        "    t=int(input(\"\\nEnter 5 to Generate again otherwise, 6 -->\"))\n",
        "\n",
        "print(\"\\nPassword Generated Successfully! You may copy the password and use!\")\n",
        "\n",
        "\n",
        "\n",
        "\n",
        "\n",
        "\n"
      ]
    }
  ]
}